{
 "cells": [
  {
   "cell_type": "code",
   "execution_count": 8,
   "metadata": {
    "collapsed": true,
    "slideshow": {
     "slide_type": "skip"
    }
   },
   "outputs": [],
   "source": [
    "#from IPython.core.display import display, HTML\n",
    "#display(HTML(\"<style>.container { width:100% !important; }</style>\"))"
   ]
  },
  {
   "cell_type": "markdown",
   "metadata": {
    "slideshow": {
     "slide_type": "slide"
    }
   },
   "source": [
    "![alt text](./figures/TKE_Global.png \"Total Kinetic Energy\")\n",
    "\n",
    "# Kinetic energy of eddy-like features from Sea Surface Altimetry.\n",
    "\n",
    "### Josué Martinez Moreno, Andy Hogg, Adele Morrison and Andrew Kiss."
   ]
  },
  {
   "cell_type": "markdown",
   "metadata": {
    "slideshow": {
     "slide_type": "slide"
    }
   },
   "source": [
    "# Outline\n",
    "\n",
    "<ul class='bigger_font'>\n",
    "    <br>\n",
    "    <ul>\n",
    "    <li>Introduction</li>\n",
    "    <li>Motivation</li>\n",
    "    <li>Data</li>\n",
    "    <li>Methods</li>\n",
    "    <li>Results</li>\n",
    "    <ul>\n",
    "        <li>Validation</li>\n",
    "        <li>Satellite vs Model</li>\n",
    "        <li>Southern Ocean Trends</li>\n",
    "        <li>Spatial Distribution</li>\n",
    "        <li>Eddy Characteristics</li>\n",
    "    </ul> \n",
    "    <li>Discussion</li>\n",
    "    <li>Future Plan</li>\n",
    "    </ul>\n",
    "</ul>\n",
    "\n"
   ]
  },
  {
   "cell_type": "markdown",
   "metadata": {
    "slideshow": {
     "slide_type": "slide"
    }
   },
   "source": [
    "# Introduction\n",
    "<ul  class='bigger_font'>\n",
    "    <li style='width:45%;display:inline-block;vertical-align:top'>\n",
    "    <br>\n",
    "    <p style='font-size:20px;text-align:justify'>   \n",
    "    Mesoscale processes are  capable  of:\n",
    "    <ul>\n",
    "        <li>mixing</li>\n",
    "        <li>transport tracers across ocean basins</li>\n",
    "        <li>redistribute momentum, potential vorticity and energy</li>\n",
    "    </ul> \n",
    "    <p style='font-size:15px !important;text-align:justify'>\n",
    "        (Zhang et al., 2014; Chelton et al., 2007; Wyrtki et al., 1976)\n",
    "    </p>\n",
    "    </p>\n",
    "\n",
    "    <li style='width:45%;display:inline-block;vertical-align:top;margin-left:3vw'>\n",
    "        <p style='font-size:18px;text-align:justify'>\n",
    "            They are commonly associated with: \n",
    "        </p>\n",
    "        <img src=\"./figures/mesoscale_processes.png\" alt=\"EKE Southern Ocean Trend\" style=\"width: 100%;\"/>\n",
    "        <h5 style='text-align:center'>Transient processes included in Mesoscale</h5>\n",
    "    </li>\n",
    "</ul>"
   ]
  },
  {
   "cell_type": "markdown",
   "metadata": {
    "slideshow": {
     "slide_type": "subslide"
    }
   },
   "source": [
    "# Introduction\n",
    "<ul class='bigger_font'>\n",
    "    <p style='font-size:18px;text-align:justify'>\n",
    "        They are commonly associated with: \n",
    "    </p>\n",
    "\n",
    "    <img src=\"./figures/mesoscale_processes.png\" alt=\"EKE Southern Ocean Trend\" style=\"width: 20%;margin:auto;left:0;right:0\"/>\n",
    "    <h5 style='text-align:center'>Transient processes included in Mesoscale</h5>\n",
    "\n",
    "    <img src=\"./figures/eddy_jet_interactions.mp4\" alt=\"Vorticity field\" style=\"width: 100%;\"/>\n",
    "</ul>"
   ]
  },
  {
   "cell_type": "markdown",
   "metadata": {
    "slideshow": {
     "slide_type": "subslide"
    }
   },
   "source": [
    "# Eddy Process\n",
    "<br>\n",
    "\n",
    "<img src=\"./figures/cyclonic_anticyclonic.png\" alt=\"Eddy features\" style=\"width: 60%;margin:auto;left:0;right:0\"/>"
   ]
  },
  {
   "cell_type": "markdown",
   "metadata": {
    "slideshow": {
     "slide_type": "slide"
    }
   },
   "source": [
    "# Introduction\n",
    "\n",
    "<p class='bigger_font' style='text-align:center'> \n",
    "    Kinetic Energy has been used to understand temporal and spatial oceanic variability.\n",
    "</p>\n",
    "<p style='font-size:15px !important;text-align:center'>\n",
    "    (Kang and Curchitser, 2017; White and Heywood, 1995)\n",
    "</p>\n",
    "\n",
    "<ul  class='bigger_font'>\n",
    "    <li style='width:45%;display:inline-block;vertical-align:top'>\n",
    "    <br>\n",
    "    The kinetic energy (KE) decomposes into the time-mean (MKE), the time-varing (TKE) and second order terms:\n",
    "    <br>\n",
    "    <br>\n",
    "    <br>\n",
    "    <div>\n",
    "    \\begin{equation}\n",
    "        \\small\n",
    "\t\t\\underbrace{\\overline{u^2 + v^2}}_{KE} =  \\underbrace{\\overline{u}^2 + \\overline{v}^2}_{MKE}  + \\underbrace{\\overline{u'^2} + \\overline{v'^2}}_{TKE}.\n",
    "\t\\end{equation}\n",
    "    </div>\n",
    "    \n",
    "    \n",
    "    <li style='width:55%;display:inline-block;vertical-align:top'>\n",
    "        <img src=\"./figures/Global_TKE.png\" alt=\"EKE Southern Ocean Trend\" style=\"width: 100%;\"/>\n",
    "        <h5 style='text-align:center'>Snapshot of Transient Kinetic Energy</h5>\n",
    "    </li>\n",
    "</ul>"
   ]
  },
  {
   "cell_type": "markdown",
   "metadata": {
    "slideshow": {
     "slide_type": "slide"
    }
   },
   "source": [
    "# Introduction\n",
    "\n",
    "<ul class='bigger_font'>\n",
    "    <li style='width:45%;display:inline-block;vertical-align:top'>\n",
    "    <p style='font-size:20px;text-align:justify'>   \n",
    "    Up to 70% of the global TKE is located at:\n",
    "    <ul>\n",
    "        <li style='color:#4d22b3'>Gulf Stream</li>\n",
    "        <li style='opacity:0.2'>Kuroshio Current</li>\n",
    "        <li style='opacity:0.2'>East Australian current</li>\n",
    "        <li style='opacity:0.2'>Agulhas current </li>\n",
    "        <li style='opacity:0.2'>and portions of the ACC</li>\n",
    "    </ul> \n",
    "    <p style='font-size:15px !important;text-align:justify'>\n",
    "        (Zhang et al., 2014; Chelton et al., 2007; Wyrtki et al., 1976)\n",
    "    </p>\n",
    "    </p>\n",
    "\n",
    "    <li style='width:55%;display:inline-block;vertical-align:top'>\n",
    "        <img src=\"./figures/Global_TKE_GS.png\" alt=\"EKE Southern Ocean Trend\" style=\"width: 100%;\"/>\n",
    "        <h5 style='text-align:center'>Transient Kinetic Energy</h5>\n",
    "    </li>\n",
    "</ul>"
   ]
  },
  {
   "cell_type": "markdown",
   "metadata": {
    "slideshow": {
     "slide_type": "subslide"
    }
   },
   "source": [
    "# Introduction\n",
    "\n",
    "<ul class='bigger_font'>\n",
    "    <li style='width:45%;display:inline-block;vertical-align:top'>\n",
    "    <p style='font-size:20px;text-align:justify'>   \n",
    "    Up to 70% of the global TKE is located at:\n",
    "    <ul>\n",
    "        <li style='color:#4d22b3'>Gulf Stream</li>\n",
    "        <li style='color:#00a3d7'>Kuroshio Current</li>\n",
    "        <li style='opacity:0.2'>East Australian current</li>\n",
    "        <li style='opacity:0.2'>Agulhas current </li>\n",
    "        <li style='opacity:0.2'>and portions of the ACC</li>\n",
    "    </ul> \n",
    "    <p style='font-size:15px !important;text-align:justify'>\n",
    "        (Zhang et al., 2014; Chelton et al., 2007; Wyrtki et al., 1976)\n",
    "    </p>\n",
    "    </p>\n",
    "\n",
    "    <li style='width:55%;display:inline-block;vertical-align:top'>\n",
    "        <img src=\"./figures/Global_TKE_KC.png\" alt=\"EKE Southern Ocean Trend\" style=\"width: 100%;\"/>\n",
    "        <h5 style='text-align:center'>Transient Kinetic Energy</h5>\n",
    "    </li>\n",
    "</ul>\n",
    " \n",
    " \n",
    " \n",
    "\n",
    "\n"
   ]
  },
  {
   "cell_type": "markdown",
   "metadata": {
    "slideshow": {
     "slide_type": "subslide"
    }
   },
   "source": [
    "# Introduction\n",
    "\n",
    "<ul class='bigger_font'>\n",
    "    <li style='width:45%;display:inline-block;vertical-align:top'>\n",
    "    <p style='font-size:20px;text-align:justify'>   \n",
    "    Up to 70% of the global TKE is located at:\n",
    "    <ul>\n",
    "        <li style='color:#4d22b3'>Gulf Stream</li>\n",
    "        <li style='color:#00a3d7'>Kuroshio Current</li>\n",
    "        <li style='color:#ff6a00'>East Australian current</li>\n",
    "        <li style='opacity:0.2'>Agulhas current </li>\n",
    "        <li style='opacity:0.2'>and portions of the ACC</li>\n",
    "    </ul> \n",
    "    <p style='font-size:15px !important;text-align:justify'>\n",
    "        (Zhang et al., 2014; Chelton et al., 2007; Wyrtki et al., 1976)\n",
    "    </p>\n",
    "    </p>\n",
    "\n",
    "    <li style='width:55%;display:inline-block;vertical-align:top'>\n",
    "        <img src=\"./figures/Global_TKE_AEC.png\" alt=\"EKE Southern Ocean Trend\" style=\"width: 100%;\"/>\n",
    "        <h5 style='text-align:center'>Transient Kinetic Energy</h5>\n",
    "    </li>\n",
    "</ul>\n",
    " \n",
    " \n",
    " \n",
    "\n",
    "\n"
   ]
  },
  {
   "cell_type": "markdown",
   "metadata": {
    "slideshow": {
     "slide_type": "subslide"
    }
   },
   "source": [
    "# Introduction\n",
    "\n",
    "<ul class='bigger_font'>\n",
    "    <li style='width:45%;display:inline-block;vertical-align:top'>\n",
    "    <p style='font-size:20px;text-align:justify'>   \n",
    "    Up to 70% of the global TKE is located at:\n",
    "    <ul>\n",
    "        <li style='color:#4d22b3'>Gulf Stream</li>\n",
    "        <li style='color:#00a3d7'>Kuroshio Current</li>\n",
    "        <li style='color:#ff6a00'>East Australian current</li>\n",
    "        <li style='color:#8d8600'>Agulhas current </li>\n",
    "        <li style='opacity:0.2'>and portions of the ACC</li>\n",
    "    </ul> \n",
    "    <p style='font-size:15px !important;text-align:justify'>\n",
    "        (Zhang et al., 2014; Chelton et al., 2007; Wyrtki et al., 1976)\n",
    "    </p>\n",
    "    </p>\n",
    "\n",
    "    <li style='width:55%;display:inline-block;vertical-align:top'>\n",
    "        <img src=\"./figures/Global_TKE_AC.png\" alt=\"EKE Southern Ocean Trend\" style=\"width: 100%;\"/>\n",
    "        <h5 style='text-align:center'>Transient Kinetic Energy</h5>\n",
    "    </li>\n",
    "</ul>\n",
    " \n",
    " \n",
    " \n",
    "\n",
    "\n"
   ]
  },
  {
   "cell_type": "markdown",
   "metadata": {
    "slideshow": {
     "slide_type": "subslide"
    }
   },
   "source": [
    "# Introduction\n",
    "\n",
    "<ul class='bigger_font'>\n",
    "    <li style='width:45%;display:inline-block;vertical-align:top'>\n",
    "    <p style='font-size:20px;text-align:justify'>   \n",
    "    Up to 70% of the global TKE is located at:\n",
    "    <ul>\n",
    "        <li style='color:#4d22b3'>Gulf Stream</li>\n",
    "        <li style='color:#00a3d7'>Kuroshio Current</li>\n",
    "        <li style='color:#ff6a00'>East Australian current</li>\n",
    "        <li style='color:#8d8600'>Agulhas current </li>\n",
    "        <li style='color:#b1dd8c'>and portions of the ACC</li>\n",
    "    </ul> \n",
    "    <p style='font-size:15px !important;text-align:justify'>\n",
    "        (Zhang et al., 2014; Chelton et al., 2007; Wyrtki et al., 1976)\n",
    "    </p>\n",
    "    </p>\n",
    "\n",
    "    <li style='width:55%;display:inline-block;vertical-align:top'>\n",
    "        <img src=\"./figures/Global_TKE_ACC.png\" alt=\"EKE Southern Ocean Trend\" style=\"width: 100%;\"/>\n",
    "        <h5 style='text-align:center'>Transient Kinetic Energy</h5>\n",
    "    </li>\n",
    "</ul>\n",
    " \n",
    " \n",
    " \n",
    "\n",
    "\n"
   ]
  },
  {
   "cell_type": "markdown",
   "metadata": {
    "slideshow": {
     "slide_type": "slide"
    }
   },
   "source": [
    "# Introduction\n",
    "\n",
    "\n",
    "<ul class='bigger_font'>\n",
    "    <li style='width:70%;display:inline-block;vertical-align:top'>\n",
    "    <p style='text-align:justify'> \n",
    "    Eddies contribute over 30% to the Transient Kinetic Energy field\n",
    "    <p style='font-size:15px !important;text-align:justify'>\n",
    "        (Chelton et al., 2011)\n",
    "    </p>\n",
    "    </p>\n",
    "\n",
    "    <li style='width:20%;display:inline-block;vertical-align:top;margin-left:1vw'>\n",
    "        <img src=\"./figures/eddy_process.png\" alt=\"Eddy\" style=\"width: 30%;\"/>\n",
    "    </li>\n",
    "    <img src=\"./figures/Global_TKE.png\" alt=\"TKE\" style=\"width: 90%;\"/>\n",
    "        <h5 style='text-align:center'>Transient Kinetic Energy</h5>\n",
    "</ul>"
   ]
  },
  {
   "cell_type": "markdown",
   "metadata": {
    "slideshow": {
     "slide_type": "slide"
    }
   },
   "source": [
    "# Motivation\n",
    " \n",
    "<p class='bigger_font'> These regions located in the Southern Ocean show a significant increase of TKE anomaly over the last two decades. </p>\n",
    "<p style='font-size:15px !important;text-align:justify'>\n",
    "    (Hogg et al., 2015)\n",
    "</p>\n",
    "\n",
    "<img style='margin:auto;left:0;right:0;width: 70% !important;' src=\"./figures/southern_ocean_TKE_trend.png\" alt=\"EKE Southern Ocean Trend\"/>\n",
    "<h5 class='bigger_font' >TKE anomaly trend for three Southern Ocean sectors - Modified from Hogg et al. (2015)</h5>"
   ]
  },
  {
   "cell_type": "markdown",
   "metadata": {
    "slideshow": {
     "slide_type": "subslide"
    }
   },
   "source": [
    "## How much of the trend is due to each mesoscale process?\n",
    "\n",
    "<img style='margin:auto;left:0;right:0;font-size:20px;width: 70%!important;' src=\"./figures/southern_ocean_TKE_trend.png\" alt=\"EKE Southern Ocean Trend\"/>\n",
    "<h5 class='bigger_font'>TKE anomaly trend for three Southern Ocean sectors - Modified from Hogg et al. (2015)</h5>"
   ]
  },
  {
   "cell_type": "markdown",
   "metadata": {
    "slideshow": {
     "slide_type": "slide"
    }
   },
   "source": [
    "# Methods\n",
    "\n",
    "\n",
    "## Identification\n",
    "\n",
    "<p class='bigger_font' style='text-align:center;font-size:20px'> \n",
    "    TrackEddy algorithm is an eddy tracking-reconstruction field algorithm from SSHa.\n",
    "</p>\n",
    "\n",
    "<ul class='bigger_font'>\n",
    "    <li style='width:45%;display:inline-block;vertical-align:top'>\n",
    "    <br>\n",
    "    <p style='font-size:20px;text-align:justify'>   \n",
    "    How we define an eddy:\n",
    "    <br>\n",
    "    Assumptions:\n",
    "    <ul>\n",
    "        <li>Outermost contour of an eddy is elliptical</li>\n",
    "        <li>eddy area limited by the 1st baroclinic Rossby radius of deformation </li>\n",
    "        <li>and eddies can be represented as Gaussians</li>\n",
    "    </ul> \n",
    "    <p style='font-size:15px !important;text-align:justify'>\n",
    "        (Fernandes et al., 2006; Klocker et. al., 2014). \n",
    "    </p>\n",
    "    </p>\n",
    "\n",
    "    <li style='width:55%;display:inline-block;vertical-align:top'>\n",
    "        <img src=\"./figures/contour_slicing.png\" alt=\"contour_slicing\" style=\"width: 100%;\"/>\n",
    "    </li>\n",
    "</ul>\n",
    "\n",
    "#### For more information: [Read The Docs](http://trackeddy.readthedocs.io/en/latest/?badge=latest) or [GitHub](https://github.com/Josue-Martinez-Moreno/trackeddy)."
   ]
  },
  {
   "cell_type": "markdown",
   "metadata": {
    "collapsed": true,
    "slideshow": {
     "slide_type": "subslide"
    }
   },
   "source": [
    "# Methods\n",
    "\n",
    "## Reconstruction\n",
    "\n",
    "<ul class='bigger_font'>\n",
    "    <li style='width:45%;display:inline-block;vertical-align:top'>\n",
    "    <br><br>\n",
    "    <p style='font-size:20px;text-align:justify'>   \n",
    "    TrackEddy steps:\n",
    "    <ol>\n",
    "        <li>Identify each eddy like feature in SSH</li>\n",
    "        <li>Fit an optimal Gaussian to each feature</li>\n",
    "        <li>Reconstruct the perturbation field</li>\n",
    "        <li>Calculate geostrophic velocities </li>\n",
    "        <li>Calculate KE</li>\n",
    "    </ol> \n",
    "    </p>\n",
    "    <li style='width:55%;display:inline-block;vertical-align:top'>\n",
    "        This figure will change for tomorrow presentation.\n",
    "        <img src=\"./figures/reconstructed_eddies.mp4\" alt=\"Reconstructed Eddy Field\" style=\"width: 100%;\"/>\n",
    "    </li>\n",
    "</ul>"
   ]
  },
  {
   "cell_type": "markdown",
   "metadata": {
    "slideshow": {
     "slide_type": "subslide"
    }
   },
   "source": [
    "# Methods\n",
    "\n",
    "### KE decomposition\n",
    "<div class='bigger_font'>\n",
    "The total kinetic energy (KE) decomposes into the time-mean (MKE), the time-varing (TKE) and second order terms:\n",
    "\n",
    "<!--  ### Divide this slide to clarify Andy's trend and also have it here to show the difference between what we are doing -->\n",
    "\n",
    "<div>\n",
    "\\begin{equation}\n",
    "        \\normalsize\n",
    "\t\t\\underbrace{\\overline{u^2 + v^2}}_{KE} =  \\underbrace{\\bar{u}^2 + \\bar{v}^2}_{MKE}  + \\underbrace{\\overline{u'^2} + \\overline{v'^2}}_{TKE}.\n",
    "\\end{equation}\n",
    "</div>\n",
    "\n",
    "We define the time-varying state as the velocity of each transient process. Therefore TKE is decomposed as:\n",
    "\n",
    "<div>\n",
    "\\begin{equation}\n",
    "        \\normalsize\n",
    "\t\t\\underbrace{u'^2 + v'^2}_{TKE} =  \\underbrace{u_{eddy}^2 + v_{eddy}^2}_{TEKE}  + \\underbrace{u_{res}^2 + v_{res}^2}_{TRKE}   + \\underbrace{2(u_{eddy}u_{res} + v_{eddy}v_{res})}_{TRKE}\n",
    "\t\\end{equation}\n",
    "</div>\n",
    "</div>"
   ]
  },
  {
   "cell_type": "markdown",
   "metadata": {
    "slideshow": {
     "slide_type": "subslide"
    }
   },
   "source": [
    "# Components Magnitude\n",
    "<br>\n",
    "<br>\n",
    "<div>\n",
    "<ul>\n",
    "<li style='width:25vw !important;display:inline-block;text-align:center'>\n",
    "\\begin{equation}\n",
    "        \\normalsize\n",
    "\t\t\\underbrace{u_{res}^2 + v_{res}^2}_{TRKE} +\n",
    "\t\\end{equation}\n",
    "</li>\n",
    "<li style='width:25vw !important;display:inline-block;text-align:center'>\n",
    "\\begin{equation}\n",
    "        \\normalsize\n",
    "\t\t\\underbrace{u_{res}^2 + v_{res}^2}_{TRKE} +\n",
    "\t\\end{equation}\n",
    "</li>\n",
    "<li style='width:25vw !important;display:inline-block;text-align:center'>\n",
    "\\begin{equation}\n",
    "        \\normalsize\n",
    "\t\t \\underbrace{2(u_{eddy}u_{res} + v_{eddy}v_{res})}_{TRKE}\n",
    "\t\\end{equation}\n",
    "</li>\n",
    "</ul>\n",
    "</div>\n",
    "\n",
    "<img src=\"./figures/component_comparison.png\" alt=\"Reconstructed Eddy Field\" style=\"width: 100%;\"/>"
   ]
  },
  {
   "cell_type": "markdown",
   "metadata": {
    "slideshow": {
     "slide_type": "subslide"
    }
   },
   "source": [
    "# Components Magnitude & Sign\n",
    "<br>\n",
    "<br>\n",
    "<div>\n",
    "<ul>\n",
    "<li style='width:25vw !important;display:inline-block;text-align:center'>\n",
    "\\begin{equation}\n",
    "        \\normalsize\n",
    "\t\t\\underbrace{u_{res}^2 + v_{res}^2}_{TRKE} +\n",
    "\t\\end{equation}\n",
    "</li>\n",
    "<li style='width:25vw !important;display:inline-block;text-align:center'>\n",
    "\\begin{equation}\n",
    "        \\normalsize\n",
    "\t\t\\underbrace{u_{res}^2 + v_{res}^2}_{TRKE} +\n",
    "\t\\end{equation}\n",
    "</li>\n",
    "<li style='width:25vw !important;display:inline-block;text-align:center'>\n",
    "\\begin{equation}\n",
    "        \\normalsize\n",
    "\t\t \\underbrace{2(u_{eddy}u_{res} + v_{eddy}v_{res})}_{TRKE}\n",
    "\t\\end{equation}\n",
    "</li>\n",
    "</ul>\n",
    "</div>\n",
    "\n",
    "<img src=\"./figures/real_magnitude_components.png\" alt=\"Reconstructed Eddy Field\" style=\"width: 100%;\"/>"
   ]
  },
  {
   "cell_type": "markdown",
   "metadata": {
    "slideshow": {
     "slide_type": "skip"
    }
   },
   "source": [
    "# Components Magnitude Mean\n",
    "<br>\n",
    "<br>\n",
    "<div>\n",
    "<ul>\n",
    "<li style='width:25vw !important;display:inline-block;text-align:center'>\n",
    "\\begin{equation}\n",
    "        \\normalsize\n",
    "\t\t\\overline{\\underbrace{u_{res}^2 + v_{res}^2}_{TRKE}} +\n",
    "\t\\end{equation}\n",
    "</li>\n",
    "<li style='width:25vw !important;display:inline-block;text-align:center'>\n",
    "\\begin{equation}\n",
    "        \\normalsize\n",
    "\t\t\\overline{\\underbrace{u_{res}^2 + v_{res}^2}_{TRKE}} +\n",
    "\t\\end{equation}\n",
    "</li>\n",
    "<li style='width:25vw !important;display:inline-block;text-align:center'>\n",
    "\\begin{equation}\n",
    "        \\normalsize\n",
    "\t\t\\overline{\\underbrace{2(u_{eddy}u_{res} + v_{eddy}v_{res})}_{TRKE}}\n",
    "\t\\end{equation}\n",
    "</li>\n",
    "</ul>\n",
    "</div>\n",
    "\n",
    "<img src=\"./figures/real_magnitude_components.png\" alt=\"Reconstructed Eddy Field\" style=\"width: 100%;\"/>"
   ]
  },
  {
   "cell_type": "markdown",
   "metadata": {
    "slideshow": {
     "slide_type": "slide"
    }
   },
   "source": [
    "# Data\n",
    "<ul>\n",
    "    <li style='width:45%;display:inline-block;text-align:center'>\n",
    "        <h2>Satellite</h2>\n",
    "        <img src=\"./figures/satellite_ssha.png\" alt=\"\" style=\"width: 100%;\"/>\n",
    "    </li>\n",
    "    <li style='width:45%;display:inline-block;text-align:center;opacity:0.1'>\n",
    "        <h2 >Access-OM2</h2>\n",
    "        <img src=\"./figures/model_ssha.png\" alt=\"\" style=\"width: 100%;\"/>\n",
    "    </li>\n",
    "</ul>"
   ]
  },
  {
   "cell_type": "markdown",
   "metadata": {
    "slideshow": {
     "slide_type": "subslide"
    }
   },
   "source": [
    "# Data\n",
    "<ul>\n",
    "    <li style='width:45%;display:inline-block;text-align:center;opacity:0.1'>\n",
    "        <h2>Satellite</h2>\n",
    "        <img src=\"./figures/satellite_ssha.png\" alt=\"\" style=\"width: 100%;\"/>\n",
    "    </li>\n",
    "    <li style='width:45%;display:inline-block;text-align:center;'>\n",
    "        <h2 >Access-OM2</h2>\n",
    "        <img src=\"./figures/model_ssha.png\" alt=\"\" style=\"width: 100%;\"/>\n",
    "    </li>\n",
    "</ul>"
   ]
  },
  {
   "cell_type": "markdown",
   "metadata": {
    "slideshow": {
     "slide_type": "subslide"
    }
   },
   "source": [
    "# Data\n",
    "<ul>\n",
    "    <li style='width:45%;display:inline-block;text-align:center'>\n",
    "        <h2>Satellite</h2>\n",
    "        <img src=\"./figures/satellite_ssha.png\" alt=\"\" style=\"width: 100%;\"/>\n",
    "    </li>\n",
    "    <li style='width:45%;display:inline-block;text-align:center;'>\n",
    "        <h2 >Access-OM2</h2>\n",
    "        <img src=\"./figures/model_ssha.png\" alt=\"\" style=\"width: 100%;\"/>\n",
    "    </li>\n",
    "</ul>"
   ]
  },
  {
   "cell_type": "markdown",
   "metadata": {
    "slideshow": {
     "slide_type": "slide"
    }
   },
   "source": [
    "# Results\n",
    "## Validation\n",
    "\n",
    "<ul class='bigger_font'>\n",
    "    <li style='width:55%;display:inline-block;'>\n",
    "        <h3>No interaction</h3>\n",
    "        <img src=\"./figures/exp-7.mp4\" alt=\"Reconstructed Eddy Field\" style=\"width: 70%;\"/>\n",
    "    </li>\n",
    "    <li style='width:40%;display:inline-block;text-align:center'>\n",
    "        <p>Kinetic energy comparison between control and reconstruction</p>\n",
    "        <img src=\"./figures/no_int_field.png\" alt=\"Reconstructed Eddy Field\" style=\"width: 100%;\"/>\n",
    "    </li>\n",
    "</ul>"
   ]
  },
  {
   "cell_type": "markdown",
   "metadata": {
    "slideshow": {
     "slide_type": "subslide"
    }
   },
   "source": [
    "# Results\n",
    "## Validation\n",
    "\n",
    "<ul class='bigger_font'>\n",
    "    <li style='width:55%;display:inline-block;'>\n",
    "        <h3>Flat</h3>\n",
    "        <img src=\"./figures/exp-4.mp4\" alt=\"Reconstructed Eddy Field\" style=\"width: 70%;\"/>\n",
    "    </li>\n",
    "    <li style='width:40%;display:inline-block;text-align:center'>\n",
    "        <p>Kinetic energy comparison between control and reconstruction</p>\n",
    "        <img src=\"./figures/flat_field.png\" alt=\"Reconstructed Eddy Field\" style=\"width: 100%;\"/>\n",
    "    </li>\n",
    "</ul>"
   ]
  },
  {
   "cell_type": "markdown",
   "metadata": {
    "slideshow": {
     "slide_type": "subslide"
    }
   },
   "source": [
    "# Results\n",
    "## Validation\n",
    "\n",
    "<ul class='bigger_font'>\n",
    "    <li style='width:55%;display:inline-block;'>\n",
    "        <h3>Wave (Eddy-wave interaction)</h3>\n",
    "        <img src=\"./figures/exp-6.mp4\" alt=\"Reconstructed Eddy Field\" style=\"width: 70%;\"/>\n",
    "    </li>\n",
    "    <li style='width:40%;display:inline-block;text-align:center'>\n",
    "        <p>Kinetic energy comparison between control and reconstruction</p>\n",
    "        <img src=\"./figures/sin_field.png\" alt=\"Reconstructed Eddy Field\" style=\"width: 100%;\"/>\n",
    "    </li>\n",
    "</ul>"
   ]
  },
  {
   "cell_type": "markdown",
   "metadata": {
    "slideshow": {
     "slide_type": "subslide"
    }
   },
   "source": [
    "# Results\n",
    "## Validation\n",
    "\n",
    "<ul class='bigger_font'>\n",
    "    <li style='width:55%;display:inline-block;'>\n",
    "        <h3>Jet (Eddy-jet interaction)</h3>\n",
    "        <img src=\"./figures/exp-5.mp4\" alt=\"Reconstructed Eddy Field\" style=\"width: 70%;\"/>\n",
    "    </li>\n",
    "    <li style='width:40%;display:inline-block;text-align:center'>\n",
    "        <p>Kinetic energy comparison between control and reconstruction</p>\n",
    "        <img src=\"./figures/jet_field.png\" alt=\"Reconstructed Eddy Field\" style=\"width: 100%;\"/>\n",
    "    </li>\n",
    "</ul>"
   ]
  },
  {
   "cell_type": "markdown",
   "metadata": {
    "slideshow": {
     "slide_type": "slide"
    }
   },
   "source": [
    "# Results\n",
    "\n",
    "<ul>\n",
    "    <li style='width:40vw !important;display:inline-block;text-align:center'>\n",
    "        <h2>Satellite</h2>\n",
    "    </li>\n",
    "    <li style='width:40vw !important;display:inline-block;text-align:center;'>\n",
    "        <h2 >Access-OM2</h2>\n",
    "    </li>\n",
    "</ul>\n",
    "\n",
    "<img src=\"./figures/satellite_model_comparison.png\" alt=\"Reconstructed Eddy Field\" style=\"width: 100%;\"/>"
   ]
  },
  {
   "cell_type": "markdown",
   "metadata": {
    "slideshow": {
     "slide_type": "subslide"
    }
   },
   "source": [
    "<ul>\n",
    "    <li style='width:40vw !important;display:inline-block;text-align:center'>\n",
    "        <h2>Satellite</h2>\n",
    "    </li>\n",
    "    <li style='width:40vw !important;display:inline-block;text-align:center;'>\n",
    "        <h2 >Access-OM2</h2>\n",
    "    </li>\n",
    "</ul>\n",
    "\n",
    "<img src=\"./figures/satellite_model_reconstruction.png\" alt=\"Reconstructed Eddy Field\" style=\"width: 100%;\"/>"
   ]
  },
  {
   "cell_type": "markdown",
   "metadata": {
    "slideshow": {
     "slide_type": "subslide"
    }
   },
   "source": [
    "<ul>\n",
    "    <li style='width:40vw !important;display:inline-block;text-align:center'>\n",
    "        <h2>Satellite</h2>\n",
    "    </li>\n",
    "    <li style='width:40vw !important;display:inline-block;text-align:center;'>\n",
    "        <h2 >Access-OM2</h2>\n",
    "    </li>\n",
    "</ul>\n",
    "\n",
    "<img src=\"./figures/satellite_model_difference.png\" alt=\"Reconstructed Eddy Field\" style=\"width: 100%;\"/>"
   ]
  },
  {
   "cell_type": "markdown",
   "metadata": {
    "slideshow": {
     "slide_type": "subslide"
    }
   },
   "source": [
    "<ul>\n",
    "    <li style='width:45%;display:inline-block;text-align:center'>\n",
    "        <h2>Satellite</h2>\n",
    "        <img src=\"./figures/satellite_comparison.png\" alt=\"Reconstructed Eddy Field\" style=\"width: 100%;\"/>\n",
    "    </li>\n",
    "    <li style='width:45%;display:inline-block;text-align:center;'>\n",
    "        <h2 >Access-OM2</h2>\n",
    "        <img src=\"./figures/model_comparison.png\" alt=\"Reconstructed Eddy Field\" style=\"width: 100%;\"/>\n",
    "    </li>\n",
    "</ul>"
   ]
  },
  {
   "cell_type": "markdown",
   "metadata": {
    "collapsed": true,
    "slideshow": {
     "slide_type": "slide"
    }
   },
   "source": [
    "# Results\n",
    "## Spatial Distribution\n",
    "![alt text](./figures/eddy_spatial_structures.png \"Total Kinetic Energy\")"
   ]
  },
  {
   "cell_type": "markdown",
   "metadata": {
    "collapsed": true,
    "slideshow": {
     "slide_type": "subslide"
    }
   },
   "source": [
    "# Results\n",
    "## Southern Ocean Trend\n",
    "\n",
    "![alt text](./figures/southern_ocean_trends.png \"Total Kinetic Energy\")"
   ]
  },
  {
   "cell_type": "markdown",
   "metadata": {
    "collapsed": true,
    "slideshow": {
     "slide_type": "subslide"
    }
   },
   "source": [
    "# Results\n",
    "## Eddy Characteristics \n",
    "\n",
    "![alt text](./figures/eddy_properties_trend.png \"Total Kinetic Energy\")"
   ]
  },
  {
   "cell_type": "markdown",
   "metadata": {
    "slideshow": {
     "slide_type": "slide"
    }
   },
   "source": [
    "# Discussion\n",
    "\n",
    "<ul class=\"bigger_font\">\n",
    "\n",
    "<li>The significant trend on TKE is a consequence of Eddies, Jets and Waves.\n",
    "</li>\n",
    "<br><br>\n",
    "<li>In eddy dominated areas, eddies are responsible of $\\approx$ 50 % of the TKE Trend\n",
    "</li>\n",
    "<br><br>\n",
    "<li>TEKE hotspots share the location with TKE hotspots.\n",
    "</li>\n",
    "<br><br>\n",
    "<li>TrackEddy systematically underestimate the energy contained by the synthetic fields by 12%\n",
    "</li>\n",
    "<br><br>\n",
    "</ul>"
   ]
  },
  {
   "cell_type": "markdown",
   "metadata": {
    "collapsed": true,
    "slideshow": {
     "slide_type": "subslide"
    }
   },
   "source": [
    "# Discussion\n",
    "\n",
    "<ul class=\"bigger_font\">\n",
    "<li>The increase in the trends of TEKE is correlated with the increase in Eddy amplitude\n",
    "</li>\n",
    "<br><br>\n",
    "<li>Trends provides a better understanding of the result of Hogg et al., 2015.\n",
    "</li>\n",
    "<br><br>\n",
    "<li>The increase on the mean Eddy amplitude over time suggests an accumulation of Available Potential Energy.\n",
    "</li>\n",
    "<br><br>\n",
    "</ul>"
   ]
  },
  {
   "cell_type": "markdown",
   "metadata": {
    "slideshow": {
     "slide_type": "slide"
    }
   },
   "source": [
    "# Future Plan\n",
    "## Regional TEKE Analysis\n",
    "![alt text](./figures/Global_TKE_ACC.png \"Total Kinetic Energy\")"
   ]
  },
  {
   "cell_type": "markdown",
   "metadata": {
    "slideshow": {
     "slide_type": "subslide"
    }
   },
   "source": [
    "# Future Plan\n",
    "##  Heat Transport by Eddies\n",
    "\n",
    "\n",
    "<img style='margin:auto;left:0;right:0' src=\"./figures/SOSE_EHF.png\" alt=\"EHF\" style=\"width: 50%;\"/>\n",
    "\n",
    "\n",
    "\n",
    "###  (Top) Daily $SSH_{SOSE}$ standard deviation over the 6 years  Southern Ocean State Estimate. (Bottom) Eddy Heat Flux $EHF_{SOSE}$ \n",
    "(Foppert, A. et al. 2016.)"
   ]
  },
  {
   "cell_type": "markdown",
   "metadata": {
    "slideshow": {
     "slide_type": "subslide"
    }
   },
   "source": [
    "# Future Plan\n",
    "## Available Potential Energy in Eddies\n",
    "\n",
    "<img style='margin:auto;left:0;right:0' src=\"./figures/a_eape.png\" alt=\"Thesis Defense\" style=\"width: 50%;\"/>\n",
    "(Luecke, C. et al. 2017)"
   ]
  },
  {
   "cell_type": "markdown",
   "metadata": {
    "slideshow": {
     "slide_type": "subslide"
    }
   },
   "source": [
    "# Future Plan\n",
    "## Available Potential Energy in Eddies\n",
    "\n",
    "<img style='margin:auto;left:0;right:0' src=\"./figures/r_eape.png\" alt=\"Thesis Defense\" style=\"width: 50%;\"/>\n",
    "\n",
    "(Luecke, C. et al. 2017)"
   ]
  },
  {
   "cell_type": "markdown",
   "metadata": {
    "slideshow": {
     "slide_type": "slide"
    }
   },
   "source": [
    "# Schedule\n",
    "\n",
    "<img style='margin:auto;left:0;right:0' src=\"./figures/time-table.png\" alt=\"Thesis Schedule\" style=\"width: 60%;\"/>"
   ]
  },
  {
   "cell_type": "markdown",
   "metadata": {
    "slideshow": {
     "slide_type": "slide"
    }
   },
   "source": [
    "# Thank You!"
   ]
  },
  {
   "cell_type": "markdown",
   "metadata": {
    "slideshow": {
     "slide_type": "subslide"
    }
   },
   "source": [
    "<img style='margin:auto;left:0;right:0' src=\"./figures/thesis_defense_2x.png\" alt=\"Thesis Defense\" style=\"width: 60%;\"/>"
   ]
  },
  {
   "cell_type": "markdown",
   "metadata": {
    "slideshow": {
     "slide_type": "slide"
    }
   },
   "source": [
    "# Questions?"
   ]
  }
 ],
 "metadata": {
  "celltoolbar": "Slideshow",
  "kernelspec": {
   "display_name": "Python 3",
   "language": "python",
   "name": "python3"
  },
  "language_info": {
   "codemirror_mode": {
    "name": "ipython",
    "version": 3
   },
   "file_extension": ".py",
   "mimetype": "text/x-python",
   "name": "python",
   "nbconvert_exporter": "python",
   "pygments_lexer": "ipython3",
   "version": "3.6.8"
  }
 },
 "nbformat": 4,
 "nbformat_minor": 2
}
